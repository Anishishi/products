{
 "cells": [
  {
   "cell_type": "code",
   "execution_count": 1,
   "metadata": {},
   "outputs": [],
   "source": [
    "import urllib.request\n",
    "import time\n",
    "from bs4 import BeautifulSoup\n",
    "from selenium import webdriver\n",
    "from selenium.webdriver.common.keys import Keys\n",
    "from selenium.webdriver.common.action_chains import ActionChains\n",
    "from time import sleep"
   ]
  },
  {
   "cell_type": "markdown",
   "metadata": {},
   "source": [
    "p検定を自動で解くアプリ\n",
    "\n",
    "webスクレイピング"
   ]
  },
  {
   "cell_type": "code",
   "execution_count": 2,
   "metadata": {},
   "outputs": [],
   "source": [
    "driver = webdriver.Chrome()\n",
    "url1=\"https://manabi.benesse.ne.jp/gakushu/typing/nihongonyuryoku.html\"\n",
    "driver.get(url1)\n",
    "soup = BeautifulSoup(driver.page_source, \"lxml\")\n",
    "sleep(3)\n",
    "driver.find_element_by_id('goSettingButton').click()\n",
    "sleep(1)\n",
    "driver.find_element_by_class_name('typingButton').click()\n",
    "sleep(1)\n",
    "actions = ActionChains(driver)\n",
    "actions.send_keys(Keys.SPACE).perform()\n",
    "sleep(4)\n",
    "t_start=time.time()\n",
    "while(1):\n",
    "    t=time.time()\n",
    "    s=driver.find_element_by_id(\"userInput\").text\n",
    "    actions.send_keys(s).perform()\n",
    "    if t-t_start>300:#実際は300にしておく\n",
    "        break\n",
    "    actions.reset_actions()\n",
    "    sleep(0.25)"
   ]
  },
  {
   "cell_type": "code",
   "execution_count": 3,
   "metadata": {},
   "outputs": [],
   "source": [
    "driver.quit()"
   ]
  },
  {
   "cell_type": "markdown",
   "metadata": {},
   "source": [
    "腕試しチェックタイピング\n",
    "\n",
    "driver.page_sourceで見れる"
   ]
  },
  {
   "cell_type": "code",
   "execution_count": 4,
   "metadata": {},
   "outputs": [],
   "source": [
    "driver = webdriver.Chrome()\n",
    "url2=\"https://www.e-typing.ne.jp/roma/check/\"\n",
    "driver.get(url2)\n",
    "soup = BeautifulSoup(driver.page_source, \"lxml\")\n",
    "sleep(1)\n",
    "driver.find_element_by_id('level_check_btn').click()\n",
    "sleep(1)\n",
    "iframe = driver.find_element_by_id('typing_content')\n",
    "driver.switch_to.frame(iframe)\n",
    "sleep(1)\n",
    "driver.find_element_by_id(\"start_btn\").click()\n",
    "sleep(1)\n",
    "actions = ActionChains(driver)\n",
    "actions.send_keys(Keys.SPACE).perform()\n",
    "sleep(4)\n",
    "cnt=0\n",
    "while cnt<15:\n",
    "    s=driver.find_element_by_id(\"sentenceText\").text\n",
    "    actions.send_keys(s).perform()\n",
    "    actions.reset_actions()\n",
    "    sleep(1)\n",
    "    cnt+=1"
   ]
  },
  {
   "cell_type": "code",
   "execution_count": 30,
   "metadata": {},
   "outputs": [],
   "source": [
    "driver.close()"
   ]
  }
 ],
 "metadata": {
  "kernelspec": {
   "display_name": "Python 3",
   "language": "python",
   "name": "python3"
  },
  "language_info": {
   "codemirror_mode": {
    "name": "ipython",
    "version": 3
   },
   "file_extension": ".py",
   "mimetype": "text/x-python",
   "name": "python",
   "nbconvert_exporter": "python",
   "pygments_lexer": "ipython3",
   "version": "3.7.6"
  }
 },
 "nbformat": 4,
 "nbformat_minor": 2
}
